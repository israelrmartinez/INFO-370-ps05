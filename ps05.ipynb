{
 "cells": [
  {
   "cell_type": "markdown",
   "id": "c1fd75fe-6e12-42bb-8a82-465ee249b078",
   "metadata": {},
   "source": [
    "# INFO 370 Problem Set 5: T-testing\n",
    "*Name:* Israel Martinez\n",
    "\n",
    "## 1 Is Beijing more expensive than Seattle? (50pt)\n",
    "You will proceed as follows: first, you compute the difference between the average log price in Beijing and Seattle. Thereafter you create two samples of random normal numbers as in the data above, using the mean and standard deviation over combined Beijing and Seattle listings. Call one of these samples “fake Beijing” and the other “fake Seattle”. What is the difference of their means? And now you repeat this exercise many-many times and see if you can get as big a difference between the fake Beijing and fake Seattle as there is between real Beijing and real Seattle.\n",
    "\n",
    "1. (2pt) load the data beijing-seattle-airbnb-price.csv. It contains two variable: city (Beijing/Seattle) and price (in USD).\n",
    "\n",
    "    Perform basic description of it: what is the number of observations? Are there any missings or otherwise invalid entries?"
   ]
  },
  {
   "cell_type": "code",
   "execution_count": 1,
   "id": "9d7957ce-59ec-4673-9614-726ed68d244d",
   "metadata": {},
   "outputs": [],
   "source": [
    "import pandas as pd\n",
    "import numpy as np\n",
    "from statistics import mean"
   ]
  },
  {
   "cell_type": "code",
   "execution_count": 30,
   "id": "89e172a8-372b-4838-ac9c-d6ce7cda278c",
   "metadata": {},
   "outputs": [
    {
     "data": {
      "text/html": [
       "<div>\n",
       "<style scoped>\n",
       "    .dataframe tbody tr th:only-of-type {\n",
       "        vertical-align: middle;\n",
       "    }\n",
       "\n",
       "    .dataframe tbody tr th {\n",
       "        vertical-align: top;\n",
       "    }\n",
       "\n",
       "    .dataframe thead th {\n",
       "        text-align: right;\n",
       "    }\n",
       "</style>\n",
       "<table border=\"1\" class=\"dataframe\">\n",
       "  <thead>\n",
       "    <tr style=\"text-align: right;\">\n",
       "      <th></th>\n",
       "      <th>city</th>\n",
       "      <th>price</th>\n",
       "    </tr>\n",
       "  </thead>\n",
       "  <tbody>\n",
       "    <tr>\n",
       "      <th>0</th>\n",
       "      <td>Beijing</td>\n",
       "      <td>401</td>\n",
       "    </tr>\n",
       "    <tr>\n",
       "      <th>1</th>\n",
       "      <td>Beijing</td>\n",
       "      <td>436</td>\n",
       "    </tr>\n",
       "    <tr>\n",
       "      <th>2</th>\n",
       "      <td>Beijing</td>\n",
       "      <td>479</td>\n",
       "    </tr>\n",
       "    <tr>\n",
       "      <th>3</th>\n",
       "      <td>Beijing</td>\n",
       "      <td>415</td>\n",
       "    </tr>\n",
       "    <tr>\n",
       "      <th>4</th>\n",
       "      <td>Beijing</td>\n",
       "      <td>317</td>\n",
       "    </tr>\n",
       "    <tr>\n",
       "      <th>...</th>\n",
       "      <td>...</td>\n",
       "      <td>...</td>\n",
       "    </tr>\n",
       "    <tr>\n",
       "      <th>990</th>\n",
       "      <td>Seattle</td>\n",
       "      <td>275</td>\n",
       "    </tr>\n",
       "    <tr>\n",
       "      <th>991</th>\n",
       "      <td>Seattle</td>\n",
       "      <td>75</td>\n",
       "    </tr>\n",
       "    <tr>\n",
       "      <th>992</th>\n",
       "      <td>Seattle</td>\n",
       "      <td>99</td>\n",
       "    </tr>\n",
       "    <tr>\n",
       "      <th>993</th>\n",
       "      <td>Seattle</td>\n",
       "      <td>140</td>\n",
       "    </tr>\n",
       "    <tr>\n",
       "      <th>994</th>\n",
       "      <td>Seattle</td>\n",
       "      <td>180</td>\n",
       "    </tr>\n",
       "  </tbody>\n",
       "</table>\n",
       "<p>995 rows × 2 columns</p>\n",
       "</div>"
      ],
      "text/plain": [
       "        city  price\n",
       "0    Beijing    401\n",
       "1    Beijing    436\n",
       "2    Beijing    479\n",
       "3    Beijing    415\n",
       "4    Beijing    317\n",
       "..       ...    ...\n",
       "990  Seattle    275\n",
       "991  Seattle     75\n",
       "992  Seattle     99\n",
       "993  Seattle    140\n",
       "994  Seattle    180\n",
       "\n",
       "[995 rows x 2 columns]"
      ]
     },
     "execution_count": 30,
     "metadata": {},
     "output_type": "execute_result"
    }
   ],
   "source": [
    "abnb = pd.read_csv(\"./data/beijing-seattle-airbnb-price.csv.bz2\", sep=\"\\t\")\n",
    "abnb"
   ]
  },
  {
   "cell_type": "code",
   "execution_count": 3,
   "id": "80ac74f6-9268-4db6-95a7-4ff264a06e7c",
   "metadata": {},
   "outputs": [
    {
     "data": {
      "text/plain": [
       "(995, 2)"
      ]
     },
     "execution_count": 3,
     "metadata": {},
     "output_type": "execute_result"
    }
   ],
   "source": [
    "abnb.shape"
   ]
  },
  {
   "cell_type": "code",
   "execution_count": 4,
   "id": "bf3babd1-8830-494a-b9ba-7f3136acc26b",
   "metadata": {},
   "outputs": [
    {
     "data": {
      "text/plain": [
       "city     0\n",
       "price    0\n",
       "dtype: int64"
      ]
     },
     "execution_count": 4,
     "metadata": {},
     "output_type": "execute_result"
    }
   ],
   "source": [
    "abnb.isna().sum()"
   ]
  },
  {
   "cell_type": "markdown",
   "id": "38c84464-235d-4b51-a828-19aa4ffb111b",
   "metadata": {},
   "source": [
    "There are 995 observations and 0 invalid entries."
   ]
  },
  {
   "cell_type": "markdown",
   "id": "a55807e7-96af-460b-9483-fcb55dd538fc",
   "metadata": {},
   "source": [
    "2. (3pt) Describe the price: compute the mean, median, standard deviation, and range. According to these figures, which city is more expensive, Beijing or Seattle?"
   ]
  },
  {
   "cell_type": "code",
   "execution_count": 5,
   "id": "b99ad3b7-79d2-4b14-8691-61014472d97f",
   "metadata": {},
   "outputs": [
    {
     "data": {
      "text/plain": [
       "(210.64661654135338, 149.0, 244.3357941629997, 30, 1002)"
      ]
     },
     "execution_count": 5,
     "metadata": {},
     "output_type": "execute_result"
    }
   ],
   "source": [
    "mSeattle = abnb[abnb.city == 'Seattle'].price.mean()\n",
    "medSeattle = abnb[abnb.city == 'Seattle'].price.median()\n",
    "stdSeattle = abnb[abnb.city == 'Seattle'].price.std()\n",
    "minSeattle = abnb[abnb.city == 'Seattle'].price.min()\n",
    "maxSeattle = abnb[abnb.city == 'Seattle'].price.max()\n",
    "mSeattle, medSeattle, stdSeattle, minSeattle, maxSeattle"
   ]
  },
  {
   "cell_type": "markdown",
   "id": "c896c86f-c336-4a61-b7da-d1c784ac1f24",
   "metadata": {},
   "source": [
    "### Seattle's prices\n",
    "mean: 210.64661654135338, median: 149.0, STD: 244.3357941629997, range: 30-1002"
   ]
  },
  {
   "cell_type": "code",
   "execution_count": 6,
   "id": "794aafed-3001-4dd4-ae2c-5f8c991f7368",
   "metadata": {},
   "outputs": [
    {
     "data": {
      "text/plain": [
       "(365.2921810699589, 296.0, 274.22086621736156, 77, 4097)"
      ]
     },
     "execution_count": 6,
     "metadata": {},
     "output_type": "execute_result"
    }
   ],
   "source": [
    "mBeijing = abnb[abnb.city == 'Beijing'].price.mean()\n",
    "medBeijing = abnb[abnb.city == 'Beijing'].price.median()\n",
    "stdBeijing = abnb[abnb.city == 'Beijing'].price.std()\n",
    "minBeijing = abnb[abnb.city == 'Beijing'].price.min()\n",
    "maxBeijing = abnb[abnb.city == 'Beijing'].price.max()\n",
    "mBeijing, medBeijing, stdBeijing, minBeijing, maxBeijing"
   ]
  },
  {
   "cell_type": "markdown",
   "id": "476e90cd-649e-48f4-a230-a4ee235a485a",
   "metadata": {},
   "source": [
    "### Beijings's prices\n",
    "mean: 365.2921810699589, median: 296.0, STD: 274.22086621736156, range: 77-4097\n",
    "\n",
    "According to these figures, Beijing is more expensive than Seattle."
   ]
  },
  {
   "cell_type": "markdown",
   "id": "c696f3ee-df5c-4e79-86a9-07425cdfdda5",
   "metadata": {},
   "source": [
    "Below, we are going to do t-test. However, t-test works best if the data is normally distributed. However, price data is typically distributed approximately log-normally, not normally. (Log-normal is a distribution of such RV where distribution of log of it is normal.)\n",
    "\n",
    "3. (3pt) Demonstrate that the data is approximately log-normally distributed: plot histograms of price and log price. Comment the shape of the histograms."
   ]
  },
  {
   "cell_type": "code",
   "execution_count": 44,
   "id": "744b1746-bb3e-464b-a17b-fff8b0b6b03f",
   "metadata": {},
   "outputs": [],
   "source": [
    "from scipy.stats import lognorm\n",
    "import matplotlib.pyplot as plt"
   ]
  },
  {
   "cell_type": "markdown",
   "id": "a35f1d92-e7ef-4049-a070-b26846455612",
   "metadata": {},
   "source": [
    "Used example from this [Stack Overflow post](https://stackoverflow.com/questions/47850202/plotting-a-histogram-on-a-log-scale-with-matplotlib)."
   ]
  },
  {
   "cell_type": "code",
   "execution_count": 45,
   "id": "3a368f53-518a-4053-a0ec-aa773953f124",
   "metadata": {},
   "outputs": [
    {
     "data": {
      "image/png": "[encoded data removed]",
      "text/plain": [
       "<Figure size 432x288 with 1 Axes>"
      ]
     },
     "metadata": {
      "needs_background": "light"
     },
     "output_type": "display_data"
    }
   ],
   "source": [
    "prices = pd.Series(abnb.price)\n",
    "hist, bins, _ = plt.hist(prices, bins=8)"
   ]
  },
  {
   "cell_type": "code",
   "execution_count": 53,
   "id": "62b18a9c-0825-46c1-89c7-eb6956d406bb",
   "metadata": {},
   "outputs": [
    {
     "data": {
      "image/png": "[encoded data removed]",
      "text/plain": [
       "<Figure size 432x288 with 1 Axes>"
      ]
     },
     "metadata": {
      "needs_background": "light"
     },
     "output_type": "display_data"
    }
   ],
   "source": [
    "logbins = np.logspace(np.log(bins[0]),np.log(bins[-1]),len(bins))\n",
    "plt.hist(prices, bins=logbins)\n",
    "plt.xscale('log')\n",
    "plt.show()"
   ]
  },
  {
   "cell_type": "markdown",
   "id": "b1af516a-d6ac-4334-af0c-40c8e4679926",
   "metadata": {},
   "source": [
    "From now on we work only in log-price.\n",
    "\n",
    "4. (1pt) Convert price to logs."
   ]
  },
  {
   "cell_type": "code",
   "execution_count": 57,
   "id": "30ef8274-b06c-437d-a74a-6dcf67c1e9ab",
   "metadata": {},
   "outputs": [],
   "source": [
    "abnb['logPrice'] = np.log(abnb['price'])"
   ]
  },
  {
   "cell_type": "markdown",
   "id": "54166d9d-8152-414e-a997-b1ef61a039ad",
   "metadata": {},
   "source": [
    "5. (4pt) Compute the mean difference between Beijing and Seattle listings. (The answer is 0.739.)"
   ]
  },
  {
   "cell_type": "code",
   "execution_count": 58,
   "id": "be4b848e-c175-400b-a43f-ff9fec653934",
   "metadata": {},
   "outputs": [
    {
     "data": {
      "text/plain": [
       "(266, 729)"
      ]
     },
     "execution_count": 58,
     "metadata": {},
     "output_type": "execute_result"
    }
   ],
   "source": [
    "sea = abnb[abnb.city == \"Seattle\"].logPrice\n",
    "bei = abnb[abnb.city == \"Beijing\"].logPrice\n",
    "len(sea), len(bei)"
   ]
  },
  {
   "cell_type": "code",
   "execution_count": 59,
   "id": "f158452c-5978-4995-aa05-02fa4bcf97ff",
   "metadata": {},
   "outputs": [
    {
     "data": {
      "text/plain": [
       "0.7391737097578872"
      ]
     },
     "execution_count": 59,
     "metadata": {},
     "output_type": "execute_result"
    }
   ],
   "source": [
    "diff = bei.mean() - sea.mean()\n",
    "diff"
   ]
  },
  {
   "cell_type": "markdown",
   "id": "49714c4c-049b-4863-befa-c6fcb72463e2",
   "metadata": {},
   "source": [
    "This was the basic description of the data. Now onward to the comparison. We proceed as follows: Imagine that there is no real difference between Beijing and Seattle prices. We call this null-hypothesis H0. Hence whatever difference we see in the actual data is just random sampling noise. We would like to have a huge number of listings to test it, but unfortunately we do not have that. So we do this instead: we create fake Beijing listings and fake Seattle listings, both drawn from the same distribution. There must be as many fake ones as there are real ones in the data. Thereafter we compare the mean price: how much more expensive are the fake Beijing prices compared to fake Seattle prices? We repeat this process many times and at the end we report how often did we find a difference that is similar to what we observe in the real data. If this is a common occurrence, we cannot reject H0.\n",
    "\n",
    "6. (5pt) Let’s state our H0 again: Beijing and Seattle listings are of similar price (in average). Hence we have to create fake Beijing and fake Seattle prices using the same distribution. The obvious choice for this is the distribution of combined Beijing and Seattle log prices.\n",
    "\n",
    "Compute the overall mean µ0 and standard deviation σ0 of combined\n",
    "Beijing and Seattle prices.\n",
    "\n",
    "Hint: the standard deviation is 0.642."
   ]
  },
  {
   "cell_type": "code",
   "execution_count": 66,
   "id": "741f77b4-267a-48c0-994b-9fe1d648bc5d",
   "metadata": {},
   "outputs": [
    {
     "data": {
      "text/plain": [
       "-0.06537863429105163"
      ]
     },
     "execution_count": 66,
     "metadata": {},
     "output_type": "execute_result"
    }
   ],
   "source": [
    "R = 995\n",
    "np.random.normal(size=R).mean()"
   ]
  },
  {
   "cell_type": "code",
   "execution_count": 67,
   "id": "7940aa50-ee77-4f1f-84cb-76dab32cab43",
   "metadata": {},
   "outputs": [
    {
     "data": {
      "text/plain": [
       "(5.563792307809865, 0.6416408826270507)"
      ]
     },
     "execution_count": 67,
     "metadata": {},
     "output_type": "execute_result"
    }
   ],
   "source": [
    "mu = abnb.logPrice.mean()\n",
    "sigma = abnb.logPrice.std()\n",
    "mu, sigma"
   ]
  },
  {
   "cell_type": "code",
   "execution_count": 68,
   "id": "4052337b-3c1c-481b-83b2-93d5de866e73",
   "metadata": {},
   "outputs": [
    {
     "data": {
      "text/plain": [
       "0.6550129818025542"
      ]
     },
     "execution_count": 68,
     "metadata": {},
     "output_type": "execute_result"
    }
   ],
   "source": [
    "np.random.normal(mu, sigma, size=R).std()"
   ]
  },
  {
   "cell_type": "markdown",
   "id": "7c867ee2-d76c-4b03-bc8c-88ecae722d67",
   "metadata": {},
   "source": [
    "The overall mean is 5.563 and the standard deviation is 0.655"
   ]
  },
  {
   "cell_type": "code",
   "execution_count": 69,
   "id": "89900b24-f770-43a0-9d1a-0ece394f097f",
   "metadata": {},
   "outputs": [
    {
     "data": {
      "text/plain": [
       "(266, 729)"
      ]
     },
     "execution_count": 69,
     "metadata": {},
     "output_type": "execute_result"
    }
   ],
   "source": [
    "nsea = np.sum(abnb.city == \"Seattle\")\n",
    "nbei = np.sum(abnb.city == \"Beijing\")\n",
    "nsea, nbei"
   ]
  },
  {
   "cell_type": "markdown",
   "id": "81cc05af-96d7-48bb-988f-bb23030d2971",
   "metadata": {},
   "source": [
    "7. (5pt) Now create two sets of random normals, “fake Beijing” and “fake Seattle”, both with the same mean µ0 and standard deviation σ0 that you just computed above. The number of fake prices must be the same as the number of real prics for the corresponding city in the data. What is the difference between the average fake Beijing prices and average fake Seattle prices? Compare the result with the real difference you found above.\n",
    "\n",
    "Hint: say, the average is 5 and standard deviation is 0.5. You can\n",
    "create the corresponding normals like:"
   ]
  },
  {
   "cell_type": "code",
   "execution_count": 71,
   "id": "472c1f82-5c19-417e-858f-62201e7ecd4a",
   "metadata": {},
   "outputs": [
    {
     "data": {
      "text/plain": [
       "0.03194189841984585"
      ]
     },
     "execution_count": 71,
     "metadata": {},
     "output_type": "execute_result"
    }
   ],
   "source": [
    "fake_sea = np.random.normal(mu, sigma, size=nsea)\n",
    "fake_bei = np.random.normal(mu, sigma, size=nbei)\n",
    "fake_bei.mean() - fake_sea.mean()"
   ]
  },
  {
   "cell_type": "markdown",
   "id": "a3fd4224-d9a1-4dbc-b3b2-809c193d3111",
   "metadata": {},
   "source": [
    "The computed mean for the fake prices are 0.032. This is about 0.7 difference than the mean found in the real data."
   ]
  },
  {
   "cell_type": "markdown",
   "id": "8672d8a9-7b10-4909-98dd-cb90cc77a091",
   "metadata": {},
   "source": [
    "8. (5pt) Now repeat the previous question a large number R (1000 or more) times. Each time store the mean difference between fake Beijing and fake Seattle, so you end up with R different values for the mean difference."
   ]
  },
  {
   "cell_type": "code",
   "execution_count": 73,
   "id": "6afc6e62-553e-414e-a0b7-12884db31202",
   "metadata": {},
   "outputs": [
    {
     "data": {
      "text/plain": [
       "0.0023311794504882106"
      ]
     },
     "execution_count": 73,
     "metadata": {},
     "output_type": "execute_result"
    }
   ],
   "source": [
    "bs_diff = np.empty(shape=R)\n",
    "for i in range(R):\n",
    "    fake_sea = np.random.normal(mu, sigma, size=nsea)\n",
    "    fake_bei = np.random.normal(mu, sigma, size=nbei)\n",
    "    bs_diff[i] = fake_bei.mean() - fake_sea.mean()"
   ]
  },
  {
   "cell_type": "markdown",
   "id": "9eaa74a9-96a6-4372-8eb3-f09d16fefa63",
   "metadata": {},
   "source": [
    "9. (5pt) What is the mean of the mean differences? If you did your simulations correctly, it should be close to 0. Explain why do you get this result."
   ]
  },
  {
   "cell_type": "code",
   "execution_count": 74,
   "id": "f4ff9af7-a77e-4ecd-baec-ba677f731ec7",
   "metadata": {},
   "outputs": [
    {
     "data": {
      "text/plain": [
       "0.0023311794504882106"
      ]
     },
     "execution_count": 74,
     "metadata": {},
     "output_type": "execute_result"
    }
   ],
   "source": [
    "bs_diff.mean()"
   ]
  },
  {
   "cell_type": "markdown",
   "id": "48d8b309-d9f9-473d-80ae-982a1f19c91f",
   "metadata": {},
   "source": [
    "I get this result that is close to 0 because I'm taking the random normal mean multiple times. The more I do that, the closer it gets to 0."
   ]
  },
  {
   "cell_type": "markdown",
   "id": "a9bdb30c-1481-45cd-9ed4-12267c1cdd31",
   "metadata": {},
   "source": [
    "10. (4pt) What is the largest mean difference (in absolute value) in your sample?\n",
    "\n",
    "Hint: np.abs computes absolute value."
   ]
  },
  {
   "cell_type": "code",
   "execution_count": 77,
   "id": "a5214b7b-ca4c-47ec-845c-4a5b52105a4d",
   "metadata": {},
   "outputs": [
    {
     "data": {
      "text/plain": [
       "0.14418116680292492"
      ]
     },
     "execution_count": 77,
     "metadata": {},
     "output_type": "execute_result"
    }
   ],
   "source": [
    "np.abs(bs_diff.max())"
   ]
  },
  {
   "cell_type": "markdown",
   "id": "3d15a12c-bf82-4275-8610-4bb0a8ab9ef8",
   "metadata": {},
   "source": [
    "The largest mean is 0.144."
   ]
  },
  {
   "cell_type": "markdown",
   "id": "74c1641c-da43-4014-b3ea-206ea56b7f8d",
   "metadata": {},
   "source": [
    "11. (7pt) find 95% confidence interval (CI) of your sample of mean differences based on sample quantiles. Does the difference in actual data, 0.739 in favor of Beijing, fall into the CI?\n",
    "\n",
    "Hint: use np.percentile(2.5) and a similar expression for the 97.5th\n",
    "percentile."
   ]
  },
  {
   "cell_type": "code",
   "execution_count": 78,
   "id": "0e28d782-0406-4f88-aaf2-2fe4862a6302",
   "metadata": {},
   "outputs": [
    {
     "data": {
      "text/plain": [
       "array([0.09168599, 0.09186222])"
      ]
     },
     "execution_count": 78,
     "metadata": {},
     "output_type": "execute_result"
    }
   ],
   "source": [
    "np.abs(np.percentile(bs_diff, [2.5, 97.5]))"
   ]
  },
  {
   "cell_type": "markdown",
   "id": "83fec00b-1bb4-42f0-a1fe-2f92255eb321",
   "metadata": {},
   "source": [
    "The 95% confidence interval is 0.092."
   ]
  },
  {
   "cell_type": "markdown",
   "id": "94dbf66c-1a86-40f3-b433-1082c2484d76",
   "metadata": {},
   "source": [
    "12. (7pt) Finally, based on the simulations, what is your conclusion: is the observed difference 0.739 just a random fluke, or are prices in Beijing really more expensive than in Seattle?"
   ]
  },
  {
   "cell_type": "markdown",
   "id": "e80f668e-3d62-442c-98f4-98b25c6758b5",
   "metadata": {},
   "source": [
    "I'm not sure if prices in Beijing are truly more expensive than in Seattle because the observed difference in the random data is not close to the observes difference in the real data."
   ]
  },
  {
   "cell_type": "markdown",
   "id": "c12e736c-7885-4985-a34a-12e94645d624",
   "metadata": {},
   "source": [
    "## 2 Now repeat the above with t-test (40pt)\n",
    "Above we spent a lot of effort with sampling, random numbers and such. In practice, it is usually not possible to sample millions of listings. And even if feasible, it is much easier just to do a t-test. Below we ask you to compute the t-value yourself, do not use any pre-existing functions!\n",
    "\n",
    "1. (10pt) Compute standard error SE of the Beijing-Seattle mean difference. Remember: we are still working in logarithms!\n",
    "\n",
    "Hint: read OIS 7.3, p 267. You probably have to walk back and read\n",
    "about various other concepts the book is using in 7.3."
   ]
  },
  {
   "cell_type": "code",
   "execution_count": 90,
   "id": "43302cb3-d04a-4881-a73f-c151c971c254",
   "metadata": {},
   "outputs": [
    {
     "data": {
      "text/plain": [
       "0.04633138016822794"
      ]
     },
     "execution_count": 90,
     "metadata": {},
     "output_type": "execute_result"
    }
   ],
   "source": [
    "ns = len(sea)\n",
    "nb = len(bei)\n",
    "sigma2 = sea.var()/ns + bei.var()/nb\n",
    "sigma = np.sqrt(sigma2)\n",
    "sigma"
   ]
  },
  {
   "cell_type": "markdown",
   "id": "17e66839-36c8-4dfb-8e72-206350166414",
   "metadata": {},
   "source": [
    "I wasn't sure if I did this correctly, so I used method 2 on this [page](https://www.statology.org/standard-error-of-mean-python/). I don't know which if either are correct."
   ]
  },
  {
   "cell_type": "code",
   "execution_count": 91,
   "id": "54509c12-c923-41cf-ac5c-c15b77f900af",
   "metadata": {},
   "outputs": [
    {
     "data": {
      "text/plain": [
       "0.020341383474748082"
      ]
     },
     "execution_count": 91,
     "metadata": {},
     "output_type": "execute_result"
    }
   ],
   "source": [
    "np.std(abnb.logPrice, ddof=1) / np.sqrt(np.size(abnb.logPrice))"
   ]
  },
  {
   "cell_type": "markdown",
   "id": "e95ae5cc-b628-456b-b774-5a27ddb321fc",
   "metadata": {},
   "source": [
    "2. (10pt) Compute 95% CI.\n",
    "\n",
    "Use the 5% two-tail significance level to look up tcr values in t-distribution table. OIS has such a table in Appendix C.2, and google\n",
    "can find a million more similar tables. 95% CI is given by µ±tcr · SE where µ is the mean, SE is its standard error, and tcr is the critical value from the table.\n",
    "\n",
    "Hint 1: what is the degrees of freedom in current case? Consult OIS\n",
    "7.3.\n",
    "\n",
    "Hint 2: we need 2-tailed test as Beijing can be both cheaper and more\n",
    "expensive than Seattle.\n",
    "\n",
    "Hint 3: you can do this in two ways. Compute 95% CI around H0\n",
    "value (i.e. difference is 0) and check if the actual difference fits in there (this is what we simulated above). Or compute 95% CI around\n",
    "the actual value, and check of H0 value 0 fits in there (this is what we did in Lab05 Q2). DO NOT compute 95% around actual value and\n",
    "then check if the actual value fits in there. It always does!"
   ]
  },
  {
   "cell_type": "code",
   "execution_count": 106,
   "id": "a3a66a31-5779-4fef-9d44-431021705f65",
   "metadata": {},
   "outputs": [],
   "source": [
    "from scipy.stats import ttest_ind"
   ]
  },
  {
   "cell_type": "code",
   "execution_count": 107,
   "id": "1c856251-53cc-42da-91b4-1f6fd362e8dc",
   "metadata": {},
   "outputs": [
    {
     "data": {
      "text/plain": [
       "Ttest_indResult(statistic=-18.688396386351982, pvalue=5.1226243536716906e-67)"
      ]
     },
     "execution_count": 107,
     "metadata": {},
     "output_type": "execute_result"
    }
   ],
   "source": [
    "seaPrices = abnb[abnb.city == 'Seattle'].logPrice.values\n",
    "beiPrices = abnb[abnb.city == 'Beijing'].logPrice.values\n",
    "ttest_ind(seaPrices, beiPrices)"
   ]
  },
  {
   "cell_type": "markdown",
   "id": "05df05c1-43e3-432d-a5f4-aa8be4fd6aaf",
   "metadata": {},
   "source": [
    "3. (6pt) What will you conclude based on CI: can you reject H0, Beijing and Seattle are of equally expensive, at 5% level?"
   ]
  },
  {
   "cell_type": "markdown",
   "id": "9d9fb9bb-1eb2-457b-8aaa-bdca9cea4b7e",
   "metadata": {},
   "source": [
    "I reject H0, Beijing and Seattle are of equally expensive, at 5% level."
   ]
  },
  {
   "cell_type": "markdown",
   "id": "6df706e6-ccc5-4e43-b098-07c7b0a8b9b7",
   "metadata": {},
   "source": [
    "4. (8pt) Now perform the opposite operation: compute the t-value. When the you have mean µ and standard error SE, you can compute the tvalue by t = µ / SE\n",
    "\n",
    "Hint: the answer is 15.98"
   ]
  },
  {
   "cell_type": "code",
   "execution_count": 105,
   "id": "e835fec0-8022-419b-ab52-75811a9350b5",
   "metadata": {},
   "outputs": [
    {
     "data": {
      "text/plain": [
       "15.954061957014193"
      ]
     },
     "execution_count": 105,
     "metadata": {},
     "output_type": "execute_result"
    }
   ],
   "source": [
    "diff / sigma"
   ]
  },
  {
   "cell_type": "markdown",
   "id": "2cb32ecb-03f5-42c3-a47f-a22b4cdf3d43",
   "metadata": {},
   "source": [
    "My answer is almost 15.98. I might've done a small miscalculation, I'm just not sure how sensitive the formulas are."
   ]
  },
  {
   "cell_type": "markdown",
   "id": "8283d509-f7cc-44e0-8248-aed0f7b4e956",
   "metadata": {},
   "source": [
    "5. (6pt) What is the likelihood that such a t value happens just by random chance? Consult the t-table.\n",
    "\n",
    "Hint: I have never seen t-tables that contain such large values. But\n",
    "where on the table would you write this value? What can you say\n",
    "about how likely it is to see such a value just by random chance?"
   ]
  },
  {
   "cell_type": "markdown",
   "id": "32304616-ca4a-4491-9c71-f76ec499793e",
   "metadata": {},
   "source": [
    "The largest values on the t-table that ours falls between is 12.71 and 31.82. I don't remember everything about how to use a t-table, but I believe this tells me that the likelihood of it being by chance is 2-5%."
   ]
  },
  {
   "cell_type": "markdown",
   "id": "0a269ccc-b046-43ce-8282-ad8067901208",
   "metadata": {},
   "source": [
    "## 3 Use canned t-test function (10pt)\n",
    "Finally, we use a ready-made library: scipy.stats.ttest_ind contains\n",
    "ready-made t-test function.\n",
    "\n",
    "Remember: work with log price!\n",
    "\n",
    "1. (5pt) Compute t-value and the probability using ttest_ind.\n",
    "\n",
    "Note: you have to specify equal_var=False to tell the function that\n",
    "Beijing and Seattle price may have different variance."
   ]
  },
  {
   "cell_type": "code",
   "execution_count": 108,
   "id": "50691b5e-f0fe-40c0-88a0-f823b168470d",
   "metadata": {},
   "outputs": [
    {
     "data": {
      "text/plain": [
       "Ttest_indResult(statistic=-15.954061957013737, pvalue=7.439441804547704e-44)"
      ]
     },
     "execution_count": 108,
     "metadata": {},
     "output_type": "execute_result"
    }
   ],
   "source": [
    "seaPrices = abnb[abnb.city == 'Seattle'].logPrice.values\n",
    "beiPrices = abnb[abnb.city == 'Beijing'].logPrice.values\n",
    "ttest_ind(seaPrices, beiPrices, equal_var=False)"
   ]
  },
  {
   "cell_type": "markdown",
   "id": "01d86b1e-305e-438a-9ea4-af8f082230ce",
   "metadata": {},
   "source": [
    "2. (5pt) Finally, state your conclusion: is Beijing more expensive than Seattle? Do all of your three methods: simulations, 95% CI, t-value and python’s t-test agree?\n",
    "\n",
    "My conclusion is that Beijing is more expensive than Seattle. I'm not quite sure how to decipher all the three methods that I attempted, but I'm pretty sure they prove some of that."
   ]
  },
  {
   "cell_type": "code",
   "execution_count": null,
   "id": "04659180-1a1c-4834-a596-69e31689f3da",
   "metadata": {},
   "outputs": [],
   "source": []
  }
 ],
 "metadata": {
  "kernelspec": {
   "display_name": "Python 3",
   "language": "python",
   "name": "python3"
  },
  "language_info": {
   "codemirror_mode": {
    "name": "ipython",
    "version": 3
   },
   "file_extension": ".py",
   "mimetype": "text/x-python",
   "name": "python",
   "nbconvert_exporter": "python",
   "pygments_lexer": "ipython3",
   "version": "3.8.8"
  }
 },
 "nbformat": 4,
 "nbformat_minor": 5
}
